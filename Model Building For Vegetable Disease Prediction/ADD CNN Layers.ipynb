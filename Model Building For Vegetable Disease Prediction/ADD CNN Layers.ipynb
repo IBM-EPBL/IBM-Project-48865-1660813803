{
 "cells": [
  {
   "cell_type": "markdown",
   "id": "cdb6af83",
   "metadata": {},
   "source": [
    "# Import Libraries"
   ]
  },
  {
   "cell_type": "code",
   "execution_count": 2,
   "id": "df0efaa2",
   "metadata": {},
   "outputs": [],
   "source": [
    "from keras.preprocessing.image import ImageDataGenerator\n",
    "train_datagen = ImageDataGenerator(rescale=1./255,\n",
    "                                  shear_range=0.2,\n",
    "                                  zoom_range=0.2,\n",
    "                                  horizontal_flip=True)\n",
    "test_datagen= ImageDataGenerator(rescale=1)"
   ]
  },
  {
   "cell_type": "code",
   "execution_count": null,
   "id": "6984ac8f",
   "metadata": {},
   "outputs": [],
   "source": [
    "x_train= train_datagen.flow_from_directory('Veg-dataset/train_set',\n",
    "                                          target_size=(128,128),\n",
    "                                          batch_size=16,\n",
    "                                          class_mode='categorical')"
   ]
  },
  {
   "cell_type": "markdown",
   "id": "a79ee32f",
   "metadata": {},
   "source": [
    "Found 11386 images belonging to 9 classes."
   ]
  },
  {
   "cell_type": "code",
   "execution_count": null,
   "id": "dee2fce9",
   "metadata": {},
   "outputs": [],
   "source": [
    "x_train= train_datagen.flow_from_directory('Veg-dataset/test_set',\n",
    "                                          target_size=(128,128),\n",
    "                                          batch_size=16,\n",
    "                                          class_mode='categorical')"
   ]
  },
  {
   "cell_type": "markdown",
   "id": "c23d62ca",
   "metadata": {},
   "source": [
    "Found 3416 images belonging to 9 classes."
   ]
  },
  {
   "cell_type": "code",
   "execution_count": null,
   "id": "959a1c89",
   "metadata": {},
   "outputs": [],
   "source": [
    "from keras.models import Sequential\n",
    "from keras.layers import Dense\n",
    "from keras.layers import Convolution2D\n",
    "from keras.layers import MaxPooling2D\n",
    "from keras.layers import Flatten"
   ]
  },
  {
   "cell_type": "markdown",
   "id": "eaafd980",
   "metadata": {},
   "source": [
    "# Initializing The Model"
   ]
  },
  {
   "cell_type": "code",
   "execution_count": 3,
   "id": "a09eb3a4",
   "metadata": {},
   "outputs": [],
   "source": [
    "model=Sequential()"
   ]
  },
  {
   "cell_type": "markdown",
   "id": "01eb9346",
   "metadata": {},
   "source": [
    "# ADD CNN Layers"
   ]
  },
  {
   "cell_type": "markdown",
   "id": "d968d42d",
   "metadata": {},
   "source": [
    "Activation Function"
   ]
  },
  {
   "cell_type": "code",
   "execution_count": 4,
   "id": "10fd580c",
   "metadata": {},
   "outputs": [],
   "source": [
    "model.add(Convolution2D(32,(3,3),input_shape=(128,128,3),activation='relu'))"
   ]
  },
  {
   "cell_type": "markdown",
   "id": "2583fdaa",
   "metadata": {},
   "source": [
    "Add the Pooling Layer"
   ]
  },
  {
   "cell_type": "code",
   "execution_count": 5,
   "id": "98298b98",
   "metadata": {},
   "outputs": [],
   "source": [
    "model.add(MaxPooling2D(pool_size=(2,2)))"
   ]
  },
  {
   "cell_type": "markdown",
   "id": "dfce04a9",
   "metadata": {},
   "source": [
    "Add the Flatten Layer"
   ]
  },
  {
   "cell_type": "code",
   "execution_count": 6,
   "id": "2a518762",
   "metadata": {},
   "outputs": [],
   "source": [
    "model.add(Flatten())"
   ]
  }
 ],
 "metadata": {
  "kernelspec": {
   "display_name": "Python 3 (ipykernel)",
   "language": "python",
   "name": "python3"
  },
  "language_info": {
   "codemirror_mode": {
    "name": "ipython",
    "version": 3
   },
   "file_extension": ".py",
   "mimetype": "text/x-python",
   "name": "python",
   "nbconvert_exporter": "python",
   "pygments_lexer": "ipython3",
   "version": "3.10.7"
  }
 },
 "nbformat": 4,
 "nbformat_minor": 5
}
