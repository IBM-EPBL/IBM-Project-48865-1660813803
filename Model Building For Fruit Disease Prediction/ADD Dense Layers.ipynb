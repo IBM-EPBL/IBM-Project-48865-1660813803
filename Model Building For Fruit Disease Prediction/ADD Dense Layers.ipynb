{
 "cells": [
  {
   "cell_type": "markdown",
   "id": "cdb6af83",
   "metadata": {},
   "source": [
    "# Import Libraries"
   ]
  },
  {
   "cell_type": "code",
   "execution_count": 10,
   "id": "df0efaa2",
   "metadata": {},
   "outputs": [],
   "source": [
    "from keras.models import Sequential\n",
    "from keras.layers import Dense\n",
    "from keras.layers import Convolution2D\n",
    "from keras.layers import MaxPooling2D\n",
    "from keras.layers import Flatten"
   ]
  },
  {
   "cell_type": "markdown",
   "id": "eaafd980",
   "metadata": {},
   "source": [
    "# Initializing The Model"
   ]
  },
  {
   "cell_type": "code",
   "execution_count": 11,
   "id": "a09eb3a4",
   "metadata": {},
   "outputs": [],
   "source": [
    "model=Sequential()"
   ]
  },
  {
   "cell_type": "markdown",
   "id": "01eb9346",
   "metadata": {},
   "source": [
    "# ADD CNN Layers"
   ]
  },
  {
   "cell_type": "markdown",
   "id": "d968d42d",
   "metadata": {},
   "source": [
    "Activation Function"
   ]
  },
  {
   "cell_type": "code",
   "execution_count": 12,
   "id": "10fd580c",
   "metadata": {},
   "outputs": [],
   "source": [
    "model.add(Convolution2D(32,(3,3),input_shape=(128,128,3),activation='relu'))"
   ]
  },
  {
   "cell_type": "markdown",
   "id": "2583fdaa",
   "metadata": {},
   "source": [
    "Add the Pooling Layer"
   ]
  },
  {
   "cell_type": "code",
   "execution_count": 13,
   "id": "98298b98",
   "metadata": {},
   "outputs": [],
   "source": [
    "model.add(MaxPooling2D(pool_size=(2,2)))"
   ]
  },
  {
   "cell_type": "markdown",
   "id": "dfce04a9",
   "metadata": {},
   "source": [
    "Add the Flatten Layer"
   ]
  },
  {
   "cell_type": "code",
   "execution_count": 14,
   "id": "2a518762",
   "metadata": {},
   "outputs": [],
   "source": [
    "model.add(Flatten())"
   ]
  },
  {
   "cell_type": "markdown",
   "id": "a9d5d2df",
   "metadata": {},
   "source": [
    "# ADD Dense Layers"
   ]
  },
  {
   "cell_type": "markdown",
   "id": "6ee31350",
   "metadata": {},
   "source": [
    "Adding The Output Layer"
   ]
  },
  {
   "cell_type": "code",
   "execution_count": null,
   "id": "bab3fd66",
   "metadata": {},
   "outputs": [],
   "source": [
    "model.add(Dense(output_dim=40,init='uniform',activation='relu'))\n",
    "model.add(Dense(output_dim=20,init,init='random_uniform',activation='relu'))\n",
    "model.add(Dense(output_dim=6,activation='softmax',init='random_uniform'))"
   ]
  }
 ],
 "metadata": {
  "kernelspec": {
   "display_name": "Python 3 (ipykernel)",
   "language": "python",
   "name": "python3"
  },
  "language_info": {
   "codemirror_mode": {
    "name": "ipython",
    "version": 3
   },
   "file_extension": ".py",
   "mimetype": "text/x-python",
   "name": "python",
   "nbconvert_exporter": "python",
   "pygments_lexer": "ipython3",
   "version": "3.10.7"
  }
 },
 "nbformat": 4,
 "nbformat_minor": 5
}
