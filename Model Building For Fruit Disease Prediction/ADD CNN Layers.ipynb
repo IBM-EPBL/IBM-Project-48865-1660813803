{
 "cells": [
  {
   "cell_type": "markdown",
   "id": "e5cd029e",
   "metadata": {},
   "source": [
    "# Import Libraries"
   ]
  },
  {
   "cell_type": "code",
   "execution_count": null,
   "id": "7ed91495",
   "metadata": {},
   "outputs": [],
   "source": [
    "from keras.models import Sequential\n",
    "from keras.layers import Dense\n",
    "from keras.layers import Convolution2D\n",
    "from keras.layers import MaxPooling2D\n",
    "from keras.layers import Flatten"
   ]
  },
  {
   "cell_type": "markdown",
   "id": "20e7815e",
   "metadata": {},
   "source": [
    "# Initializing The Model"
   ]
  },
  {
   "cell_type": "code",
   "execution_count": 2,
   "id": "728448ad",
   "metadata": {},
   "outputs": [],
   "source": [
    "model=Sequential()"
   ]
  },
  {
   "cell_type": "markdown",
   "id": "02f5b362",
   "metadata": {},
   "source": [
    "# ADD CNN Layers"
   ]
  },
  {
   "cell_type": "markdown",
   "id": "8cf3ac1e",
   "metadata": {},
   "source": [
    "Activation Function"
   ]
  },
  {
   "cell_type": "code",
   "execution_count": 5,
   "id": "e9de3a37",
   "metadata": {},
   "outputs": [],
   "source": [
    "model.add(Convolution2D(32,(3,3),input_shape=(128,128,3),activation='relu'))"
   ]
  },
  {
   "cell_type": "markdown",
   "id": "471d80b5",
   "metadata": {},
   "source": [
    "Add the Pooling Layer"
   ]
  },
  {
   "cell_type": "code",
   "execution_count": 7,
   "id": "a5f615ff",
   "metadata": {},
   "outputs": [],
   "source": [
    "model.add(MaxPooling2D(pool_size=(2,2)))"
   ]
  },
  {
   "cell_type": "markdown",
   "id": "72fa9e31",
   "metadata": {},
   "source": [
    "Add the Flatten Layer"
   ]
  },
  {
   "cell_type": "code",
   "execution_count": 8,
   "id": "2f0ea9f7",
   "metadata": {},
   "outputs": [],
   "source": [
    "model.add(Flatten())"
   ]
  }
 ],
 "metadata": {
  "kernelspec": {
   "display_name": "Python 3 (ipykernel)",
   "language": "python",
   "name": "python3"
  },
  "language_info": {
   "codemirror_mode": {
    "name": "ipython",
    "version": 3
   },
   "file_extension": ".py",
   "mimetype": "text/x-python",
   "name": "python",
   "nbconvert_exporter": "python",
   "pygments_lexer": "ipython3",
   "version": "3.10.7"
  }
 },
 "nbformat": 4,
 "nbformat_minor": 5
}
